{
 "cells": [
  {
   "cell_type": "code",
   "execution_count": null,
   "metadata": {},
   "outputs": [
    {
     "name": "stdout",
     "output_type": "stream",
     "text": [
      "20\n"
     ]
    }
   ],
   "source": [
    "# Randomly sample files to read\n",
    "import random\n",
    "from pathlib import Path\n",
    "\n",
    "in_dir = Path(\"data/librispeech-wav\")\n",
    "sample_size = 20\n",
    "\n",
    "wav_paths = list(in_dir.rglob(\"*.wav\"))\n",
    "if sample_size < len(wav_paths):\n",
    "    sampled_paths = random.sample(wav_paths, sample_size)\n",
    "else:\n",
    "    sampled_paths = wav_paths  \n",
    "\n",
    "print(len(sampled_paths))"
   ]
  },
  {
   "cell_type": "code",
   "execution_count": 2,
   "metadata": {},
   "outputs": [
    {
     "name": "stderr",
     "output_type": "stream",
     "text": [
      "Using cache found in /home/danel/.cache/torch/hub/bshall_hubert_main\n",
      "Encoding Audio Features: 100%|██████████| 20/20 [00:06<00:00,  3.05it/s]\n"
     ]
    }
   ],
   "source": [
    "from torchaudio.functional import resample\n",
    "import torch\n",
    "import torchaudio\n",
    "from tqdm import tqdm\n",
    "\n",
    "hubert = torch.hub.load(\n",
    "    \"bshall/hubert:main\",\n",
    "    f\"hubert_discrete\",\n",
    "    trust_repo=True,\n",
    ")\n",
    "\n",
    "acoustic_units = {}\n",
    "filenames = {}\n",
    "index = 0\n",
    "for wav_path in tqdm(sampled_paths, desc=\"Encoding Audio Features\"):\n",
    "    wav, sr = torchaudio.load(wav_path)\n",
    "    wav = resample(wav, sr, 16000)\n",
    "    wav = wav.unsqueeze(0)\n",
    "\n",
    "    with torch.inference_mode():\n",
    "        units = hubert.units(wav)\n",
    "    acoustic_units[wav_path.stem] = units.numpy()\n",
    "    filenames[index] = wav_path.stem\n",
    "    index += 1"
   ]
  },
  {
   "cell_type": "code",
   "execution_count": null,
   "metadata": {},
   "outputs": [],
   "source": []
  }
 ],
 "metadata": {
  "kernelspec": {
   "display_name": ".venv",
   "language": "python",
   "name": "python3"
  },
  "language_info": {
   "codemirror_mode": {
    "name": "ipython",
    "version": 3
   },
   "file_extension": ".py",
   "mimetype": "text/x-python",
   "name": "python",
   "nbconvert_exporter": "python",
   "pygments_lexer": "ipython3",
   "version": "3.12.3"
  }
 },
 "nbformat": 4,
 "nbformat_minor": 2
}
