{
 "cells": [
  {
   "cell_type": "markdown",
   "metadata": {},
   "source": [
    "Play slices of the waveforms:"
   ]
  },
  {
   "cell_type": "code",
   "execution_count": 1,
   "metadata": {},
   "outputs": [
    {
     "data": {
      "text/html": [
       "\n",
       "                <audio  controls=\"controls\" >\n",
       "                    <source src=\"data:audio/wav;base64,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\" type=\"audio/wav\" />\n",
       "                    Your browser does not support the audio element.\n",
       "                </audio>\n",
       "              "
      ],
      "text/plain": [
       "<IPython.lib.display.Audio object>"
      ]
     },
     "execution_count": 1,
     "metadata": {},
     "output_type": "execute_result"
    }
   ],
   "source": [
    "import torchaudio\n",
    "from IPython.display import Audio\n",
    "\n",
    "waveform, _ = torchaudio.load(\"data/librispeech_subset/84-121123-0001.wav\")\n",
    "sample_rate=16000\n",
    "\n",
    "start_time=1.1\n",
    "end_time=1.46\n",
    "\n",
    "start_frame = int(start_time * sample_rate)\n",
    "end_frame = int(end_time * sample_rate)\n",
    "\n",
    "waveform_slice = waveform[:, start_frame:end_frame]\n",
    "\n",
    "Audio(waveform_slice.squeeze(), rate=16000)"
   ]
  },
  {
   "cell_type": "markdown",
   "metadata": {},
   "source": [
    "Get the words & their indices for a .textgrid file from Librispeech"
   ]
  },
  {
   "cell_type": "code",
   "execution_count": 1,
   "metadata": {},
   "outputs": [],
   "source": [
    "from pathlib import Path\n",
    "import textgrids\n",
    "\n",
    "    \n",
    "\n",
    "input_dir = Path(\"data/all_textgrid\")\n",
    "files = list(input_dir.rglob(\"**/*.TextGrid\"))\n",
    "output_path = \"data/words_and_indices.txt\"\n",
    "\n",
    "with open(output_path, \"w\", encoding=\"utf-8\") as f:\n",
    "    for file in files:\n",
    "        grid = textgrids.TextGrid(file)\n",
    "\n",
    "        words_tier = grid[\"words\"]\n",
    "        file_name = file.stem\n",
    "        \n",
    "        f.write(f\"{file_name}:\\n\")\n",
    "        for idx, interval in enumerate(words_tier, start=1):\n",
    "            if idx == 1:\n",
    "                continue\n",
    "            f.write(f\"{idx-2}: {interval.text}\\n\")\n",
    "        f.write(\"\\n\")\n"
   ]
  },
  {
   "cell_type": "markdown",
   "metadata": {},
   "source": [
    "Getting the timestamps for the indices of words:"
   ]
  },
  {
   "cell_type": "code",
   "execution_count": 2,
   "metadata": {},
   "outputs": [],
   "source": [
    "from pathlib import Path\n",
    "import textgrids\n",
    "\n",
    "input_dir = Path(\"data/all_textgrid\")\n",
    "files = list(input_dir.rglob(\"**/*.TextGrid\"))\n",
    "output_path = \"data/timestamps_and_indices.txt\"\n",
    "\n",
    "with open(output_path, \"w\", encoding=\"utf-8\") as f:\n",
    "    for file in files:\n",
    "        grid = textgrids.TextGrid(file)\n",
    "\n",
    "        words_tier = grid[\"words\"]\n",
    "        file_name = file.stem\n",
    "        \n",
    "        f.write(f\"{file_name}:\\n\")\n",
    "        for idx, interval in enumerate(words_tier, start=1):\n",
    "            if idx == 1:\n",
    "                continue\n",
    "            f.write(f\"{idx-2}: [{interval.xmin}:{interval.xmax}]\\n\")\n",
    "        f.write(\"\\n\")\n"
   ]
  },
  {
   "cell_type": "markdown",
   "metadata": {},
   "source": [
    "Evaluate the norm_dist_mat.npy's"
   ]
  },
  {
   "cell_type": "code",
   "execution_count": null,
   "metadata": {},
   "outputs": [],
   "source": [
    "import numpy as np\n",
    "from utils import Cluster \n",
    "from cluster import cluster\n",
    "\n",
    "model_name = \"wavlm_base\"\n",
    "layer_num = 8\n",
    "dist_threshold = 0.55\n",
    "dist_mat_dir = Path(f\"output/dtw/{model_name}/{layer_num}/d{dist_threshold}\")\n",
    "dist_mat_dir.mkdir(parents=True, exist_ok=True)\n",
    "\n",
    "new_norm_dist_mat = np.load(dist_mat_dir / \"norm_dist_mat.npy\")\n",
    "print(new_norm_dist_mat)\n",
    "\n",
    "clusters = cluster(new_norm_dist_mat, file_names, model_name, layer_num, dist_threshold)\n",
    "\n",
    "appended_clusters = []\n",
    "for i, clust in enumerate(clusters):\n",
    "    new_cluster = Cluster(i)\n",
    "    for j in range(len(clust)):\n",
    "        filename = file_names[clust[j]]\n",
    "        wordunit_id = j\n",
    "        file_parts = filename.split(\"_\")\n",
    "        file_name = file_parts[0]\n",
    "        index = int(file_parts[1])  \n",
    "\n",
    "        new_cluster.add_word_unit(wordunit_id, index, file_name)\n",
    "    \n",
    "    for word_unit in new_cluster.word_dict:\n",
    "        word = indices_dict[word_unit.file][word_unit.index]\n",
    "        new_cluster.add_true_word(word)\n",
    "            \n",
    "\n",
    "    appended_clusters.append(new_cluster.true_word_dict)\n",
    "    new_cluster.cluster_purity()\n",
    "\n",
    "    if new_cluster.purity < 0.8:\n",
    "        print(f\"purity : {new_cluster.purity*100}%\")\n",
    "        print(new_cluster.true_word_dict)"
   ]
  },
  {
   "cell_type": "markdown",
   "metadata": {},
   "source": [
    "How to get audio out of my clusters?"
   ]
  },
  {
   "cell_type": "code",
   "execution_count": 3,
   "metadata": {},
   "outputs": [],
   "source": [
    "import re\n",
    "\n",
    "def parse_text_to_dict(file):\n",
    "    with open(file, \"r\", encoding=\"utf-8\") as f:\n",
    "        lines = f.readlines()\n",
    "\n",
    "    data_dict = {}\n",
    "    current_id = None\n",
    "    timestep_dict = {}\n",
    "\n",
    "    for line in lines:\n",
    "        line = line.strip()\n",
    "\n",
    "        if not line:\n",
    "            continue\n",
    "\n",
    "        if line.endswith(\":\") and not line.split(\":\")[0].isdigit():\n",
    "            if current_id is not None:\n",
    "                data_dict[current_id] = timestep_dict  \n",
    "            current_id = line[:-1]  \n",
    "            timestep_dict = {}  \n",
    "        else:\n",
    "            match = re.match(r\"(\\d+): \\[(\\d*\\.*\\d+):(\\d*\\.*\\d+)\\]\", line)\n",
    "            if match:\n",
    "                index = int(match.group(1))\n",
    "                start = float(match.group(2))\n",
    "                end = float(match.group(3))\n",
    "                timestep_dict[index] = (start, end)\n",
    "\n",
    "    if current_id is not None:\n",
    "        data_dict[current_id] = timestep_dict\n",
    "\n",
    "    return data_dict\n"
   ]
  },
  {
   "cell_type": "code",
   "execution_count": null,
   "metadata": {},
   "outputs": [
    {
     "data": {
      "text/html": [
       "\n",
       "                <audio  controls=\"controls\" >\n",
       "                    <source src=\"data:audio/wav;base64,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\" type=\"audio/wav\" />\n",
       "                    Your browser does not support the audio element.\n",
       "                </audio>\n",
       "              "
      ],
      "text/plain": [
       "<IPython.lib.display.Audio object>"
      ]
     },
     "execution_count": 24,
     "metadata": {},
     "output_type": "execute_result"
    }
   ],
   "source": [
    "from eval import  parse_cluster_file, parse_text_to_dict\n",
    "from pathlib import Path\n",
    "from IPython.display import Audio, display\n",
    "import torchaudio\n",
    "\n",
    "def waveform_slice(file, start_time, end_time):\n",
    "\n",
    "    waveform, _ = torchaudio.load(file)\n",
    "    sample_rate=16000\n",
    "    start_frame = int(start_time * sample_rate)\n",
    "    end_frame = int(end_time * sample_rate)\n",
    "\n",
    "    waveform_slice = waveform[:, start_frame:end_frame]\n",
    "    return waveform_slice\n",
    "\n",
    "\n",
    "cluster_dir = Path(\"output/dtw/clusters/\")\n",
    "cluster_files = list(cluster_dir.rglob(\"*.txt\"))\n",
    "wav_dir = Path(\"data/librispeech-wav/\")\n",
    "\n",
    "indices_dict = parse_text_to_dict(\"data/timestamps_and_indices.txt\")\n",
    "\n",
    "clusters_arr = []\n",
    "for cluster_file in cluster_files:\n",
    "    clusters = parse_cluster_file(cluster_file)\n",
    "\n",
    "    for clust in clusters:\n",
    "        print(f\"Cluster {clust.id}\")\n",
    "        for word_unit in clust.word_dict:\n",
    "            times = indices_dict[word_unit.file][word_unit.index]\n",
    "            times = times.split(\":\")\n",
    "            start_time = float(times[0][1:])\n",
    "            end_time = float(times[1][0:-1])\n",
    "            word_unit.add_word_boundaries(start_time, end_time)\n",
    "\n",
    "        if len(clust.word_dict) > 0:\n",
    "            for word_unit in clust.word_dict:\n",
    "                filename = wav_dir / str(word_unit.file + \".wav\")\n",
    "                slice = waveform_slice(filename, word_unit.start_time, word_unit.end_time)\n",
    "                audio_obj = Audio(slice.squeeze(), rate=16000)\n",
    "                display(audio_obj)\n"
   ]
  }
 ],
 "metadata": {
  "kernelspec": {
   "display_name": ".venv",
   "language": "python",
   "name": "python3"
  },
  "language_info": {
   "codemirror_mode": {
    "name": "ipython",
    "version": 3
   },
   "file_extension": ".py",
   "mimetype": "text/x-python",
   "name": "python",
   "nbconvert_exporter": "python",
   "pygments_lexer": "ipython3",
   "version": "3.12.3"
  }
 },
 "nbformat": 4,
 "nbformat_minor": 2
}
