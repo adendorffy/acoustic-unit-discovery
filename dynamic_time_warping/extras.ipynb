{
 "cells": [
  {
   "cell_type": "markdown",
   "metadata": {},
   "source": [
    "Play slices of the waveforms:"
   ]
  },
  {
   "cell_type": "code",
   "execution_count": 1,
   "metadata": {},
   "outputs": [
    {
     "data": {
      "text/html": [
       "\n",
       "                <audio  controls=\"controls\" >\n",
       "                    <source src=\"data:audio/wav;base64,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\" type=\"audio/wav\" />\n",
       "                    Your browser does not support the audio element.\n",
       "                </audio>\n",
       "              "
      ],
      "text/plain": [
       "<IPython.lib.display.Audio object>"
      ]
     },
     "execution_count": 1,
     "metadata": {},
     "output_type": "execute_result"
    }
   ],
   "source": [
    "import torchaudio\n",
    "from IPython.display import Audio\n",
    "\n",
    "waveform, _ = torchaudio.load(\"data/librispeech_subset/84-121123-0001.wav\")\n",
    "sample_rate=16000\n",
    "\n",
    "start_time=1.1\n",
    "end_time=1.46\n",
    "\n",
    "start_frame = int(start_time * sample_rate)\n",
    "end_frame = int(end_time * sample_rate)\n",
    "\n",
    "waveform_slice = waveform[:, start_frame:end_frame]\n",
    "\n",
    "Audio(waveform_slice.squeeze(), rate=16000)"
   ]
  },
  {
   "cell_type": "markdown",
   "metadata": {},
   "source": [
    "Get the words & their indices for a .textgrid file from Librispeech"
   ]
  },
  {
   "cell_type": "code",
   "execution_count": 3,
   "metadata": {},
   "outputs": [
    {
     "name": "stdout",
     "output_type": "stream",
     "text": [
      "174-50561-0005\n",
      "251-118436-0002\n",
      "84-121123-0000\n",
      "84-121123-0001\n",
      "251-118436-0004\n",
      "251-118436-0003\n",
      "84-121123-0002\n",
      "174-50561-0004\n",
      "174-50561-0002\n",
      "251-118436-0000\n",
      "174-50561-0001\n",
      "174-50561-0000\n",
      "174-50561-0003\n",
      "251-118436-0001\n"
     ]
    }
   ],
   "source": [
    "from pathlib import Path\n",
    "import textgrids\n",
    "\n",
    "    \n",
    "\n",
    "input_dir = Path(\"data/librispeech_subset_alignments\")\n",
    "files = list(input_dir.rglob(\"*.TextGrid\"))\n",
    "output_path = \"data/librispeech_subset_alignments/words_and_indices.txt\"\n",
    "\n",
    "with open(output_path, \"w\", encoding=\"utf-8\") as f:\n",
    "    for file in files:\n",
    "        grid = textgrids.TextGrid(file)\n",
    "\n",
    "        words_tier = grid[\"words\"]\n",
    "        file_name = file.stem\n",
    "        print(file_name)\n",
    "        \n",
    "        f.write(f\"{file_name}:\\n\")\n",
    "        for idx, interval in enumerate(words_tier, start=1):\n",
    "            if idx == 1:\n",
    "                continue\n",
    "            f.write(f\"{idx-2}: {interval.text}\\n\")\n",
    "        f.write(\"\\n\")\n"
   ]
  }
 ],
 "metadata": {
  "kernelspec": {
   "display_name": ".venv",
   "language": "python",
   "name": "python3"
  },
  "language_info": {
   "codemirror_mode": {
    "name": "ipython",
    "version": 3
   },
   "file_extension": ".py",
   "mimetype": "text/x-python",
   "name": "python",
   "nbconvert_exporter": "python",
   "pygments_lexer": "ipython3",
   "version": "3.12.3"
  }
 },
 "nbformat": 4,
 "nbformat_minor": 2
}
