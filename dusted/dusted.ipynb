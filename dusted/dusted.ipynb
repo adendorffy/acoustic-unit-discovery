{
 "cells": [
  {
   "cell_type": "code",
   "execution_count": 8,
   "metadata": {},
   "outputs": [
    {
     "name": "stderr",
     "output_type": "stream",
     "text": [
      "Extracting MFCCs: 100%|██████████| 2703/2703 [00:24<00:00, 108.87it/s]\n"
     ]
    }
   ],
   "source": [
    "from pathlib import Path\n",
    "from tqdm import tqdm\n",
    "import librosa\n",
    "import numpy as np\n",
    "\n",
    "# MFCCs\n",
    "def preemphasis(signal, coeff=0.97):\n",
    "    \"\"\"Perform preemphasis on the input `signal`.\"\"\"    \n",
    "    return np.append(signal[0], signal[1:] - coeff*signal[:-1])\n",
    "\n",
    "\n",
    "def extract_MFCCs(in_dir):\n",
    "    paths = list(in_dir.rglob(\"*.wav\"))\n",
    "    features = {}\n",
    "    for path in tqdm(sorted(paths), desc=\"Extracting MFCCs\"):\n",
    "        wav, sr = librosa.core.load(path, sr=None)\n",
    "        wav = preemphasis(wav, coeff=0.97)\n",
    "\n",
    "        mfcc = librosa.feature.mfcc(\n",
    "            y=wav, sr=sr, n_mfcc=13, n_mels=24, \n",
    "            n_fft=int(np.floor(0.025*sr)),\n",
    "            hop_length=int(np.floor(0.01*sr)), \n",
    "            fmin=64, fmax=8000\n",
    "        )\n",
    "        mfcc_delta = librosa.feature.delta(mfcc)\n",
    "        mfcc_delta_delta = librosa.feature.delta(mfcc_delta)\n",
    "        features[path.stem] = np.hstack([mfcc.T, mfcc_delta.T, mfcc_delta_delta.T])\n",
    "\n",
    "    return features\n",
    "    \n",
    "in_dir = Path(\"data/librispeech-wav\")\n",
    "mfcc_feat_dict = extract_MFCCs(in_dir)"
   ]
  },
  {
   "cell_type": "code",
   "execution_count": 12,
   "metadata": {},
   "outputs": [],
   "source": [
    "out_dir = Path(\"features/mfccs/\")\n",
    "out_dir.mkdir(parents=True, exist_ok=True)\n",
    "for path in mfcc_feat_dict:\n",
    "    out_path = out_dir / f\"{path}.npy\"\n",
    "    np.save(out_path, mfcc_feat_dict[path])"
   ]
  }
 ],
 "metadata": {
  "kernelspec": {
   "display_name": ".env",
   "language": "python",
   "name": "python3"
  },
  "language_info": {
   "codemirror_mode": {
    "name": "ipython",
    "version": 3
   },
   "file_extension": ".py",
   "mimetype": "text/x-python",
   "name": "python",
   "nbconvert_exporter": "python",
   "pygments_lexer": "ipython3",
   "version": "3.12.3"
  }
 },
 "nbformat": 4,
 "nbformat_minor": 2
}
